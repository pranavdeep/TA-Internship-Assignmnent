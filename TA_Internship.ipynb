{
  "nbformat": 4,
  "nbformat_minor": 0,
  "metadata": {
    "colab": {
      "name": "TA_Internshipipynb",
      "provenance": [],
      "collapsed_sections": []
    },
    "kernelspec": {
      "name": "python3",
      "display_name": "Python 3"
    }
  },
  "cells": [
    {
      "cell_type": "code",
      "metadata": {
        "colab": {
          "base_uri": "https://localhost:8080/"
        },
        "id": "un_r66OzUDnU",
        "outputId": "fac7ba28-af9a-4f9c-ed71-7a216be68d3e"
      },
      "source": [
        "def print_pattern(n):\n",
        "\tk = 2*n - 2\n",
        "\tfor i in range(0, n):\n",
        "\t\tfor j in range(0, k):\n",
        "\t\t\tprint(end=\" \")\n",
        "\n",
        "\t\tk = k - 2\n",
        "\t\tfor j in range(0, i+1):\n",
        "\t\t\tprint(\"* \", end=\"\")\n",
        "\t\tprint(\"\\r\")\n",
        "\n",
        "\n",
        "\n",
        "print_pattern(5)\n"
      ],
      "execution_count": 105,
      "outputs": [
        {
          "output_type": "stream",
          "text": [
            "        * \r\n",
            "      * * \r\n",
            "    * * * \r\n",
            "  * * * * \r\n",
            "* * * * * \r\n"
          ],
          "name": "stdout"
        }
      ]
    },
    {
      "cell_type": "code",
      "metadata": {
        "id": "YpHc3dC9U1Z1"
      },
      "source": [
        ""
      ],
      "execution_count": 38,
      "outputs": []
    },
    {
      "cell_type": "code",
      "metadata": {
        "colab": {
          "base_uri": "https://localhost:8080/"
        },
        "id": "o7OiMbwLWsUy",
        "outputId": "4174c231-1971-4d21-ba79-af9c9c45a56f"
      },
      "source": [
        "n = 5\n",
        "num = 65\n",
        "for i in range(0, n):\n",
        "  for j in range(0, i+1):\n",
        "    ch = chr(num)\n",
        "    print(ch, end=\" \")\n",
        "    num = num +1\n",
        "  print(\"\")"
      ],
      "execution_count": 106,
      "outputs": [
        {
          "output_type": "stream",
          "text": [
            "A \n",
            "B C \n",
            "D E F \n",
            "G H I J \n",
            "K L M N O \n"
          ],
          "name": "stdout"
        }
      ]
    },
    {
      "cell_type": "code",
      "metadata": {
        "colab": {
          "base_uri": "https://localhost:8080/"
        },
        "id": "AkPbckpsisKc",
        "outputId": "a101136b-b5c3-47cd-c269-a3f648360ac6"
      },
      "source": [
        " import re\n",
        " budget = float(input(\"Please Enter your budget\"))\n",
        " Item ={}\n",
        " while(budget):\n",
        "  temp = int(input(\"Enter your choice\\n1.Add an item\\n2.Exit \"))\n",
        "  if temp == 1:\n",
        "    p_name = input(\"Enter product Name : \")\n",
        "    p_qty =  input(\"Enter Quantity : \")\n",
        "    p_qty = re.findall(r'\\d+(?:\\.\\d+)?', p_qty)\n",
        "    p_qty = float(p_qty[0])\n",
        "    p_price = float(input(\"Enter Price : \"))\n",
        "    if (p_price>budget):\n",
        "      print(\"Can't buy. Out of Budget\\nBudget Left = \",budget)\n",
        "    else:\n",
        "      if p_name not in Item.keys():\n",
        "        Item[p_name] = []\n",
        "        Item[p_name].append(p_qty)\n",
        "        Item[p_name].append(p_price)\n",
        "        unit_cost = float(p_price / p_qty)\n",
        "        Item[p_name].append(unit_cost)\n",
        "\n",
        "      else:\n",
        "        Item[p_name][0] = Item[p_name][0] + p_qty\n",
        "        #Item[p_name][2] = Item[p_name][0] + p_qty\n",
        "\n",
        "      budget = budget - (Item[p_name][2]*p_qty)\n",
        "    print(\"Amount Left = \",budget)\n",
        "  elif temp == 2:\n",
        "    print(\"Amount left can buy you any of\")\n",
        "    for i in Item:\n",
        "      if Item[i][2]<budget :\n",
        "        print(i)\n",
        "    break\n",
        "\n",
        "\n",
        "\n",
        "  \n"
      ],
      "execution_count": 104,
      "outputs": [
        {
          "output_type": "stream",
          "text": [
            "Please Enter your budget500\n",
            "Enter your choice\n",
            "1.Add an item\n",
            "2.Exit 1\n",
            "Enter product Name : corn floor\n",
            "Enter Quantity : 5.5 kg\n",
            "Enter Price : 3150\n",
            "Can't buy. Out of Budget\n",
            "Budget Left =  500.0\n",
            "Amount Left =  500.0\n",
            "Enter your choice\n",
            "1.Add an item\n",
            "2.Exit 315\n",
            "Enter your choice\n",
            "1.Add an item\n",
            "2.Exit 1\n",
            "Enter product Name : abc\n",
            "Enter Quantity : 2\n",
            "Enter Price : 25\n",
            "Amount Left =  475.0\n",
            "Enter your choice\n",
            "1.Add an item\n",
            "2.Exit 2\n",
            "Amount left can buy you any of\n",
            "abc\n"
          ],
          "name": "stdout"
        }
      ]
    },
    {
      "cell_type": "code",
      "metadata": {
        "colab": {
          "base_uri": "https://localhost:8080/"
        },
        "id": "5HzddF7Ype93",
        "outputId": "d2ba5108-331a-4342-fab0-d60697f97d0f"
      },
      "source": [
        "Item"
      ],
      "execution_count": 92,
      "outputs": [
        {
          "output_type": "execute_result",
          "data": {
            "text/plain": [
              "{'cf': [2.5, 100.0, 40.0],\n",
              " 'hl': [1.0, 100.0, 100.0],\n",
              " 'polish': [8.0, 50.0, 12.5],\n",
              " 'wheat': [2.0, 200.0, 100.0]}"
            ]
          },
          "metadata": {
            "tags": []
          },
          "execution_count": 92
        }
      ]
    },
    {
      "cell_type": "code",
      "metadata": {
        "colab": {
          "base_uri": "https://localhost:8080/"
        },
        "id": "qho4hLMmqzmO",
        "outputId": "386dcb9a-48e6-470f-fd1b-96299bcc3e5f"
      },
      "source": [
        "print(\"Product Name\",\"       \",\"Quantity\",\"   \",\"Price\",\"      \",\"Unit Cost\" )\n",
        "for k, v in Item.items():\n",
        "    lang, perc, change = v\n",
        "    print (\"{:<20} {:<10} {:<10} {:<10}\".format(k, lang, perc, change))"
      ],
      "execution_count": 103,
      "outputs": [
        {
          "output_type": "stream",
          "text": [
            "Product Name         Quantity     Price        Unit Cost\n",
            "cf                   2.5        100.0      40.0      \n",
            "wheat                2.0        200.0      100.0     \n",
            "polish               8.0        50.0       12.5      \n",
            "hl                   1.0        100.0      100.0     \n"
          ],
          "name": "stdout"
        }
      ]
    },
    {
      "cell_type": "code",
      "metadata": {
        "id": "ZNizeYh9uD8i"
      },
      "source": [
        ""
      ],
      "execution_count": null,
      "outputs": []
    }
  ]
}